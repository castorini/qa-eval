{
 "cells": [
  {
   "cell_type": "code",
   "execution_count": null,
   "outputs": [],
   "source": [
    "import torch\n",
    "from FastChat.fastchat.model import load_model, get_conversation_template\n",
    "from transformers import AutoConfig, AutoTokenizer, AutoModelForCausalLM\n",
    "\n",
    "!nvidia-smi -L\n",
    "\n",
    "print(\"PyTorch version:\", torch.__version__)\n",
    "print(\"CUDA version:\", torch.version.cuda)\n",
    "print(\"#GPUs:\", torch.cuda.device_count())"
   ],
   "metadata": {
    "collapsed": false
   },
   "id": "27b9119df29e78e2"
  },
  {
   "cell_type": "code",
   "execution_count": null,
   "outputs": [],
   "source": [
    "MODEL = \"lmsys/vicuna-7b-v1.5\"\n",
    "NUM_GPUS = 1\n",
    "CONVERSATIONAL = False\n",
    "\n",
    "PROMPT = \"\"\"You are an expert judge of a content. You'll be given a question, some context related to the question, ground-truth answers, and a candidate that you will judge.\n",
    "\n",
    "Question: what is the name of the compound p4010?\n",
    "Answer: \"Phosphorus pentoxide\"\n",
    "Candidate: Unknown.\n",
    "\n",
    "Is candidate correct?\n",
    "\"\"\""
   ],
   "metadata": {
    "collapsed": false
   },
   "id": "4effc307fa49cefc"
  },
  {
   "cell_type": "code",
   "execution_count": null,
   "outputs": [],
   "source": [
    "def gen(prompt: str, model, tokenizer):\n",
    "    # Run inference\n",
    "    inputs = tokenizer([prompt], return_tensors=\"pt\").to(\"cuda\")\n",
    "    with torch.no_grad():\n",
    "        output_ids = model.generate(\n",
    "            **inputs,\n",
    "            do_sample=True,\n",
    "            top_p=0.9,\n",
    "            max_new_tokens=100,\n",
    "        )\n",
    "\n",
    "    input_lengths = (inputs[\"input_ids\"] != tokenizer.pad_token_id).int().sum(-1)\n",
    "    output_ids = output_ids[0][0, input_lengths[0] :]\n",
    "    return tokenizer.decode(output_ids, skip_special_tokens=True).strip()"
   ],
   "metadata": {
    "collapsed": false
   },
   "id": "1167d2fcdcd9f546"
  },
  {
   "cell_type": "markdown",
   "source": [
    "# FastChat"
   ],
   "metadata": {
    "collapsed": false
   },
   "id": "554b35947d2d54fb"
  },
  {
   "cell_type": "code",
   "execution_count": null,
   "id": "initial_id",
   "metadata": {
    "collapsed": true
   },
   "outputs": [],
   "source": [
    "fc_model, fc_tokenizer = load_model(\n",
    "    MODEL,\n",
    "    device=\"cuda\",\n",
    "    num_gpus=NUM_GPUS,\n",
    "    max_gpu_memory=None,\n",
    "    load_8bit=False,\n",
    "    cpu_offloading=False,\n",
    "    revision=\"main\",\n",
    "    debug=False,\n",
    ")\n",
    "fc_model.eval()\n",
    "\n",
    "if CONVERSATIONAL:\n",
    "    conv = get_conversation_template(MODEL)\n",
    "    conv.append_message(conv.roles[0], PROMPT)\n",
    "    conv.append_message(conv.roles[1], None)\n",
    "    prompt = conv.get_prompt()\n",
    "    \n",
    "    print(prompt)\n",
    "else:\n",
    "    prompt = PROMPT\n",
    "    \n",
    "print(gen(prompt, fc_model, fc_tokenizer))"
   ]
  },
  {
   "cell_type": "markdown",
   "source": [
    "# Huggingface"
   ],
   "metadata": {
    "collapsed": false
   },
   "id": "2bd07767a9f8528"
  },
  {
   "cell_type": "code",
   "execution_count": null,
   "outputs": [],
   "source": [
    "hf_tokenizer = AutoTokenizer.from_pretrained(MODEL, use_fast=True)\n",
    "config = AutoConfig.from_pretrained(MODEL, return_dict=True)\n",
    "hf_model = AutoModelForCausalLM.from_pretrained(MODEL, config=config, device_map=\"auto\", low_cpu_mem_usage=True)\n",
    "\n",
    "hf_model.eval()\n",
    "\n",
    "prompt = PROMPT\n",
    "print(gen(prompt, hf_model, hf_tokenizer))"
   ],
   "metadata": {
    "collapsed": false
   },
   "id": "98e75c777809008a"
  }
 ],
 "metadata": {
  "kernelspec": {
   "display_name": "Python 3",
   "language": "python",
   "name": "python3"
  },
  "language_info": {
   "codemirror_mode": {
    "name": "ipython",
    "version": 2
   },
   "file_extension": ".py",
   "mimetype": "text/x-python",
   "name": "python",
   "nbconvert_exporter": "python",
   "pygments_lexer": "ipython2",
   "version": "2.7.6"
  }
 },
 "nbformat": 4,
 "nbformat_minor": 5
}
